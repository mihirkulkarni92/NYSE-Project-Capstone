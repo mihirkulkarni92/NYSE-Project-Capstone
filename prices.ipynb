{
 "cells": [
  {
   "cell_type": "code",
   "execution_count": 2,
   "metadata": {
    "collapsed": true
   },
   "outputs": [],
   "source": [
    "import pandas as pd\n",
    "from pandas import Series\n",
    "import numpy as np\n",
    "from sklearn.preprocessing import MinMaxScaler"
   ]
  },
  {
   "cell_type": "code",
   "execution_count": 3,
   "metadata": {
    "collapsed": true
   },
   "outputs": [],
   "source": [
    "import os"
   ]
  },
  {
   "cell_type": "code",
   "execution_count": 4,
   "metadata": {},
   "outputs": [
    {
     "data": {
      "text/plain": [
       "'C:\\\\Users\\\\Rathin\\\\Desktop\\\\Python notebooks'"
      ]
     },
     "execution_count": 4,
     "metadata": {},
     "output_type": "execute_result"
    }
   ],
   "source": [
    "os.getcwd()"
   ]
  },
  {
   "cell_type": "code",
   "execution_count": 5,
   "metadata": {
    "collapsed": true
   },
   "outputs": [],
   "source": [
    "pri = pd.read_excel(\"price_cleaned.xlsx\",encoding=\"ISO-8859-1\")"
   ]
  },
  {
   "cell_type": "code",
   "execution_count": 6,
   "metadata": {},
   "outputs": [
    {
     "data": {
      "text/html": [
       "<div>\n",
       "<style scoped>\n",
       "    .dataframe tbody tr th:only-of-type {\n",
       "        vertical-align: middle;\n",
       "    }\n",
       "\n",
       "    .dataframe tbody tr th {\n",
       "        vertical-align: top;\n",
       "    }\n",
       "\n",
       "    .dataframe thead th {\n",
       "        text-align: right;\n",
       "    }\n",
       "</style>\n",
       "<table border=\"1\" class=\"dataframe\">\n",
       "  <thead>\n",
       "    <tr style=\"text-align: right;\">\n",
       "      <th></th>\n",
       "      <th>date</th>\n",
       "      <th>symbol</th>\n",
       "      <th>close</th>\n",
       "    </tr>\n",
       "  </thead>\n",
       "  <tbody>\n",
       "    <tr>\n",
       "      <th>0</th>\n",
       "      <td>2016-01-05</td>\n",
       "      <td>WLTW</td>\n",
       "      <td>125.839996</td>\n",
       "    </tr>\n",
       "    <tr>\n",
       "      <th>1</th>\n",
       "      <td>2016-01-06</td>\n",
       "      <td>WLTW</td>\n",
       "      <td>119.980003</td>\n",
       "    </tr>\n",
       "    <tr>\n",
       "      <th>2</th>\n",
       "      <td>2016-01-07</td>\n",
       "      <td>WLTW</td>\n",
       "      <td>114.949997</td>\n",
       "    </tr>\n",
       "    <tr>\n",
       "      <th>3</th>\n",
       "      <td>2016-01-08</td>\n",
       "      <td>WLTW</td>\n",
       "      <td>116.620003</td>\n",
       "    </tr>\n",
       "    <tr>\n",
       "      <th>4</th>\n",
       "      <td>2016-01-11</td>\n",
       "      <td>WLTW</td>\n",
       "      <td>114.970001</td>\n",
       "    </tr>\n",
       "  </tbody>\n",
       "</table>\n",
       "</div>"
      ],
      "text/plain": [
       "        date symbol       close\n",
       "0 2016-01-05   WLTW  125.839996\n",
       "1 2016-01-06   WLTW  119.980003\n",
       "2 2016-01-07   WLTW  114.949997\n",
       "3 2016-01-08   WLTW  116.620003\n",
       "4 2016-01-11   WLTW  114.970001"
      ]
     },
     "execution_count": 6,
     "metadata": {},
     "output_type": "execute_result"
    }
   ],
   "source": [
    "pri.head()"
   ]
  },
  {
   "cell_type": "code",
   "execution_count": 7,
   "metadata": {},
   "outputs": [
    {
     "data": {
      "text/html": [
       "<div>\n",
       "<style scoped>\n",
       "    .dataframe tbody tr th:only-of-type {\n",
       "        vertical-align: middle;\n",
       "    }\n",
       "\n",
       "    .dataframe tbody tr th {\n",
       "        vertical-align: top;\n",
       "    }\n",
       "\n",
       "    .dataframe thead th {\n",
       "        text-align: right;\n",
       "    }\n",
       "</style>\n",
       "<table border=\"1\" class=\"dataframe\">\n",
       "  <thead>\n",
       "    <tr style=\"text-align: right;\">\n",
       "      <th></th>\n",
       "      <th>date</th>\n",
       "      <th>symbol</th>\n",
       "      <th>close</th>\n",
       "    </tr>\n",
       "  </thead>\n",
       "  <tbody>\n",
       "    <tr>\n",
       "      <th>851259</th>\n",
       "      <td>2016-12-30</td>\n",
       "      <td>ZBH</td>\n",
       "      <td>103.199997</td>\n",
       "    </tr>\n",
       "    <tr>\n",
       "      <th>851260</th>\n",
       "      <td>2016-12-30</td>\n",
       "      <td>ZION</td>\n",
       "      <td>43.040001</td>\n",
       "    </tr>\n",
       "    <tr>\n",
       "      <th>851261</th>\n",
       "      <td>2016-12-30</td>\n",
       "      <td>ZTS</td>\n",
       "      <td>53.529999</td>\n",
       "    </tr>\n",
       "    <tr>\n",
       "      <th>851262</th>\n",
       "      <td>2016-12-30</td>\n",
       "      <td>AIV</td>\n",
       "      <td>45.450001</td>\n",
       "    </tr>\n",
       "    <tr>\n",
       "      <th>851263</th>\n",
       "      <td>2016-12-30</td>\n",
       "      <td>FTV</td>\n",
       "      <td>53.630001</td>\n",
       "    </tr>\n",
       "  </tbody>\n",
       "</table>\n",
       "</div>"
      ],
      "text/plain": [
       "             date symbol       close\n",
       "851259 2016-12-30    ZBH  103.199997\n",
       "851260 2016-12-30   ZION   43.040001\n",
       "851261 2016-12-30    ZTS   53.529999\n",
       "851262 2016-12-30    AIV   45.450001\n",
       "851263 2016-12-30    FTV   53.630001"
      ]
     },
     "execution_count": 7,
     "metadata": {},
     "output_type": "execute_result"
    }
   ],
   "source": [
    "pri.tail()"
   ]
  },
  {
   "cell_type": "code",
   "execution_count": 9,
   "metadata": {},
   "outputs": [
    {
     "data": {
      "text/plain": [
       "Index(['date', 'symbol', 'close'], dtype='object')"
      ]
     },
     "execution_count": 9,
     "metadata": {},
     "output_type": "execute_result"
    }
   ],
   "source": [
    "pri.columns"
   ]
  },
  {
   "cell_type": "code",
   "execution_count": 66,
   "metadata": {},
   "outputs": [
    {
     "data": {
      "text/html": [
       "<div>\n",
       "<style scoped>\n",
       "    .dataframe tbody tr th:only-of-type {\n",
       "        vertical-align: middle;\n",
       "    }\n",
       "\n",
       "    .dataframe tbody tr th {\n",
       "        vertical-align: top;\n",
       "    }\n",
       "\n",
       "    .dataframe thead th {\n",
       "        text-align: right;\n",
       "    }\n",
       "</style>\n",
       "<table border=\"1\" class=\"dataframe\">\n",
       "  <thead>\n",
       "    <tr style=\"text-align: right;\">\n",
       "      <th></th>\n",
       "      <th>date</th>\n",
       "      <th>close</th>\n",
       "    </tr>\n",
       "    <tr>\n",
       "      <th>symbol</th>\n",
       "      <th></th>\n",
       "      <th></th>\n",
       "    </tr>\n",
       "  </thead>\n",
       "  <tbody>\n",
       "    <tr>\n",
       "      <th>WLTW</th>\n",
       "      <td>2016-01-05</td>\n",
       "      <td>125.839996</td>\n",
       "    </tr>\n",
       "    <tr>\n",
       "      <th>WLTW</th>\n",
       "      <td>2016-01-06</td>\n",
       "      <td>119.980003</td>\n",
       "    </tr>\n",
       "    <tr>\n",
       "      <th>WLTW</th>\n",
       "      <td>2016-01-07</td>\n",
       "      <td>114.949997</td>\n",
       "    </tr>\n",
       "    <tr>\n",
       "      <th>WLTW</th>\n",
       "      <td>2016-01-08</td>\n",
       "      <td>116.620003</td>\n",
       "    </tr>\n",
       "    <tr>\n",
       "      <th>WLTW</th>\n",
       "      <td>2016-01-11</td>\n",
       "      <td>114.970001</td>\n",
       "    </tr>\n",
       "    <tr>\n",
       "      <th>WLTW</th>\n",
       "      <td>2016-01-12</td>\n",
       "      <td>115.550003</td>\n",
       "    </tr>\n",
       "    <tr>\n",
       "      <th>WLTW</th>\n",
       "      <td>2016-01-13</td>\n",
       "      <td>112.849998</td>\n",
       "    </tr>\n",
       "    <tr>\n",
       "      <th>WLTW</th>\n",
       "      <td>2016-01-14</td>\n",
       "      <td>114.379997</td>\n",
       "    </tr>\n",
       "    <tr>\n",
       "      <th>WLTW</th>\n",
       "      <td>2016-01-15</td>\n",
       "      <td>112.529999</td>\n",
       "    </tr>\n",
       "    <tr>\n",
       "      <th>WLTW</th>\n",
       "      <td>2016-01-19</td>\n",
       "      <td>110.379997</td>\n",
       "    </tr>\n",
       "    <tr>\n",
       "      <th>WLTW</th>\n",
       "      <td>2016-01-20</td>\n",
       "      <td>109.300003</td>\n",
       "    </tr>\n",
       "    <tr>\n",
       "      <th>WLTW</th>\n",
       "      <td>2016-01-21</td>\n",
       "      <td>110.000000</td>\n",
       "    </tr>\n",
       "    <tr>\n",
       "      <th>WLTW</th>\n",
       "      <td>2016-01-22</td>\n",
       "      <td>111.949997</td>\n",
       "    </tr>\n",
       "    <tr>\n",
       "      <th>WLTW</th>\n",
       "      <td>2016-01-25</td>\n",
       "      <td>110.120003</td>\n",
       "    </tr>\n",
       "    <tr>\n",
       "      <th>WLTW</th>\n",
       "      <td>2016-01-26</td>\n",
       "      <td>111.000000</td>\n",
       "    </tr>\n",
       "    <tr>\n",
       "      <th>WLTW</th>\n",
       "      <td>2016-01-27</td>\n",
       "      <td>110.709999</td>\n",
       "    </tr>\n",
       "    <tr>\n",
       "      <th>WLTW</th>\n",
       "      <td>2016-01-28</td>\n",
       "      <td>112.580002</td>\n",
       "    </tr>\n",
       "    <tr>\n",
       "      <th>WLTW</th>\n",
       "      <td>2016-01-29</td>\n",
       "      <td>114.470001</td>\n",
       "    </tr>\n",
       "    <tr>\n",
       "      <th>WLTW</th>\n",
       "      <td>2016-02-01</td>\n",
       "      <td>114.500000</td>\n",
       "    </tr>\n",
       "    <tr>\n",
       "      <th>WLTW</th>\n",
       "      <td>2016-02-02</td>\n",
       "      <td>110.559998</td>\n",
       "    </tr>\n",
       "    <tr>\n",
       "      <th>WLTW</th>\n",
       "      <td>2016-02-03</td>\n",
       "      <td>114.050003</td>\n",
       "    </tr>\n",
       "    <tr>\n",
       "      <th>WLTW</th>\n",
       "      <td>2016-02-04</td>\n",
       "      <td>115.709999</td>\n",
       "    </tr>\n",
       "    <tr>\n",
       "      <th>WLTW</th>\n",
       "      <td>2016-02-05</td>\n",
       "      <td>114.019997</td>\n",
       "    </tr>\n",
       "    <tr>\n",
       "      <th>WLTW</th>\n",
       "      <td>2016-02-08</td>\n",
       "      <td>111.160004</td>\n",
       "    </tr>\n",
       "    <tr>\n",
       "      <th>WLTW</th>\n",
       "      <td>2016-02-09</td>\n",
       "      <td>110.650002</td>\n",
       "    </tr>\n",
       "    <tr>\n",
       "      <th>WLTW</th>\n",
       "      <td>2016-02-10</td>\n",
       "      <td>107.519997</td>\n",
       "    </tr>\n",
       "    <tr>\n",
       "      <th>WLTW</th>\n",
       "      <td>2016-02-11</td>\n",
       "      <td>107.129997</td>\n",
       "    </tr>\n",
       "    <tr>\n",
       "      <th>WLTW</th>\n",
       "      <td>2016-02-12</td>\n",
       "      <td>107.839996</td>\n",
       "    </tr>\n",
       "    <tr>\n",
       "      <th>WLTW</th>\n",
       "      <td>2016-02-16</td>\n",
       "      <td>110.769997</td>\n",
       "    </tr>\n",
       "    <tr>\n",
       "      <th>WLTW</th>\n",
       "      <td>2016-02-17</td>\n",
       "      <td>111.239998</td>\n",
       "    </tr>\n",
       "    <tr>\n",
       "      <th>...</th>\n",
       "      <td>...</td>\n",
       "      <td>...</td>\n",
       "    </tr>\n",
       "    <tr>\n",
       "      <th>WAT</th>\n",
       "      <td>2016-12-30</td>\n",
       "      <td>134.389999</td>\n",
       "    </tr>\n",
       "    <tr>\n",
       "      <th>WBA</th>\n",
       "      <td>2016-12-30</td>\n",
       "      <td>82.760002</td>\n",
       "    </tr>\n",
       "    <tr>\n",
       "      <th>WDC</th>\n",
       "      <td>2016-12-30</td>\n",
       "      <td>67.949997</td>\n",
       "    </tr>\n",
       "    <tr>\n",
       "      <th>WEC</th>\n",
       "      <td>2016-12-30</td>\n",
       "      <td>58.650002</td>\n",
       "    </tr>\n",
       "    <tr>\n",
       "      <th>WFC</th>\n",
       "      <td>2016-12-30</td>\n",
       "      <td>55.110001</td>\n",
       "    </tr>\n",
       "    <tr>\n",
       "      <th>WFM</th>\n",
       "      <td>2016-12-30</td>\n",
       "      <td>30.760000</td>\n",
       "    </tr>\n",
       "    <tr>\n",
       "      <th>WHR</th>\n",
       "      <td>2016-12-30</td>\n",
       "      <td>181.770004</td>\n",
       "    </tr>\n",
       "    <tr>\n",
       "      <th>WM</th>\n",
       "      <td>2016-12-30</td>\n",
       "      <td>70.910004</td>\n",
       "    </tr>\n",
       "    <tr>\n",
       "      <th>WMB</th>\n",
       "      <td>2016-12-30</td>\n",
       "      <td>31.139999</td>\n",
       "    </tr>\n",
       "    <tr>\n",
       "      <th>WMT</th>\n",
       "      <td>2016-12-30</td>\n",
       "      <td>69.120003</td>\n",
       "    </tr>\n",
       "    <tr>\n",
       "      <th>WRK</th>\n",
       "      <td>2016-12-30</td>\n",
       "      <td>50.770000</td>\n",
       "    </tr>\n",
       "    <tr>\n",
       "      <th>WU</th>\n",
       "      <td>2016-12-30</td>\n",
       "      <td>21.719999</td>\n",
       "    </tr>\n",
       "    <tr>\n",
       "      <th>WY</th>\n",
       "      <td>2016-12-30</td>\n",
       "      <td>30.090000</td>\n",
       "    </tr>\n",
       "    <tr>\n",
       "      <th>WYN</th>\n",
       "      <td>2016-12-30</td>\n",
       "      <td>76.370003</td>\n",
       "    </tr>\n",
       "    <tr>\n",
       "      <th>WYNN</th>\n",
       "      <td>2016-12-30</td>\n",
       "      <td>86.510002</td>\n",
       "    </tr>\n",
       "    <tr>\n",
       "      <th>XEC</th>\n",
       "      <td>2016-12-30</td>\n",
       "      <td>135.899994</td>\n",
       "    </tr>\n",
       "    <tr>\n",
       "      <th>XEL</th>\n",
       "      <td>2016-12-30</td>\n",
       "      <td>40.700001</td>\n",
       "    </tr>\n",
       "    <tr>\n",
       "      <th>XL</th>\n",
       "      <td>2016-12-30</td>\n",
       "      <td>37.259998</td>\n",
       "    </tr>\n",
       "    <tr>\n",
       "      <th>XLNX</th>\n",
       "      <td>2016-12-30</td>\n",
       "      <td>60.369999</td>\n",
       "    </tr>\n",
       "    <tr>\n",
       "      <th>XOM</th>\n",
       "      <td>2016-12-30</td>\n",
       "      <td>90.260002</td>\n",
       "    </tr>\n",
       "    <tr>\n",
       "      <th>XRAY</th>\n",
       "      <td>2016-12-30</td>\n",
       "      <td>57.730000</td>\n",
       "    </tr>\n",
       "    <tr>\n",
       "      <th>XRX</th>\n",
       "      <td>2016-12-30</td>\n",
       "      <td>8.730000</td>\n",
       "    </tr>\n",
       "    <tr>\n",
       "      <th>XYL</th>\n",
       "      <td>2016-12-30</td>\n",
       "      <td>49.520000</td>\n",
       "    </tr>\n",
       "    <tr>\n",
       "      <th>YHOO</th>\n",
       "      <td>2016-12-30</td>\n",
       "      <td>38.669998</td>\n",
       "    </tr>\n",
       "    <tr>\n",
       "      <th>YUM</th>\n",
       "      <td>2016-12-30</td>\n",
       "      <td>63.330002</td>\n",
       "    </tr>\n",
       "    <tr>\n",
       "      <th>ZBH</th>\n",
       "      <td>2016-12-30</td>\n",
       "      <td>103.199997</td>\n",
       "    </tr>\n",
       "    <tr>\n",
       "      <th>ZION</th>\n",
       "      <td>2016-12-30</td>\n",
       "      <td>43.040001</td>\n",
       "    </tr>\n",
       "    <tr>\n",
       "      <th>ZTS</th>\n",
       "      <td>2016-12-30</td>\n",
       "      <td>53.529999</td>\n",
       "    </tr>\n",
       "    <tr>\n",
       "      <th>AIV</th>\n",
       "      <td>2016-12-30</td>\n",
       "      <td>45.450001</td>\n",
       "    </tr>\n",
       "    <tr>\n",
       "      <th>FTV</th>\n",
       "      <td>2016-12-30</td>\n",
       "      <td>53.630001</td>\n",
       "    </tr>\n",
       "  </tbody>\n",
       "</table>\n",
       "<p>851264 rows × 2 columns</p>\n",
       "</div>"
      ],
      "text/plain": [
       "             date       close\n",
       "symbol                       \n",
       "WLTW   2016-01-05  125.839996\n",
       "WLTW   2016-01-06  119.980003\n",
       "WLTW   2016-01-07  114.949997\n",
       "WLTW   2016-01-08  116.620003\n",
       "WLTW   2016-01-11  114.970001\n",
       "WLTW   2016-01-12  115.550003\n",
       "WLTW   2016-01-13  112.849998\n",
       "WLTW   2016-01-14  114.379997\n",
       "WLTW   2016-01-15  112.529999\n",
       "WLTW   2016-01-19  110.379997\n",
       "WLTW   2016-01-20  109.300003\n",
       "WLTW   2016-01-21  110.000000\n",
       "WLTW   2016-01-22  111.949997\n",
       "WLTW   2016-01-25  110.120003\n",
       "WLTW   2016-01-26  111.000000\n",
       "WLTW   2016-01-27  110.709999\n",
       "WLTW   2016-01-28  112.580002\n",
       "WLTW   2016-01-29  114.470001\n",
       "WLTW   2016-02-01  114.500000\n",
       "WLTW   2016-02-02  110.559998\n",
       "WLTW   2016-02-03  114.050003\n",
       "WLTW   2016-02-04  115.709999\n",
       "WLTW   2016-02-05  114.019997\n",
       "WLTW   2016-02-08  111.160004\n",
       "WLTW   2016-02-09  110.650002\n",
       "WLTW   2016-02-10  107.519997\n",
       "WLTW   2016-02-11  107.129997\n",
       "WLTW   2016-02-12  107.839996\n",
       "WLTW   2016-02-16  110.769997\n",
       "WLTW   2016-02-17  111.239998\n",
       "...           ...         ...\n",
       "WAT    2016-12-30  134.389999\n",
       "WBA    2016-12-30   82.760002\n",
       "WDC    2016-12-30   67.949997\n",
       "WEC    2016-12-30   58.650002\n",
       "WFC    2016-12-30   55.110001\n",
       "WFM    2016-12-30   30.760000\n",
       "WHR    2016-12-30  181.770004\n",
       "WM     2016-12-30   70.910004\n",
       "WMB    2016-12-30   31.139999\n",
       "WMT    2016-12-30   69.120003\n",
       "WRK    2016-12-30   50.770000\n",
       "WU     2016-12-30   21.719999\n",
       "WY     2016-12-30   30.090000\n",
       "WYN    2016-12-30   76.370003\n",
       "WYNN   2016-12-30   86.510002\n",
       "XEC    2016-12-30  135.899994\n",
       "XEL    2016-12-30   40.700001\n",
       "XL     2016-12-30   37.259998\n",
       "XLNX   2016-12-30   60.369999\n",
       "XOM    2016-12-30   90.260002\n",
       "XRAY   2016-12-30   57.730000\n",
       "XRX    2016-12-30    8.730000\n",
       "XYL    2016-12-30   49.520000\n",
       "YHOO   2016-12-30   38.669998\n",
       "YUM    2016-12-30   63.330002\n",
       "ZBH    2016-12-30  103.199997\n",
       "ZION   2016-12-30   43.040001\n",
       "ZTS    2016-12-30   53.529999\n",
       "AIV    2016-12-30   45.450001\n",
       "FTV    2016-12-30   53.630001\n",
       "\n",
       "[851264 rows x 2 columns]"
      ]
     },
     "execution_count": 66,
     "metadata": {},
     "output_type": "execute_result"
    }
   ],
   "source": [
    "pri.set_index('symbol','date')"
   ]
  },
  {
   "cell_type": "code",
   "execution_count": 135,
   "metadata": {},
   "outputs": [],
   "source": [
    "prices=pri.loc[pri['symbol']=='JNJ',['close','date','symbol']]"
   ]
  },
  {
   "cell_type": "code",
   "execution_count": 136,
   "metadata": {},
   "outputs": [
    {
     "data": {
      "text/html": [
       "<div>\n",
       "<style scoped>\n",
       "    .dataframe tbody tr th:only-of-type {\n",
       "        vertical-align: middle;\n",
       "    }\n",
       "\n",
       "    .dataframe tbody tr th {\n",
       "        vertical-align: top;\n",
       "    }\n",
       "\n",
       "    .dataframe thead th {\n",
       "        text-align: right;\n",
       "    }\n",
       "</style>\n",
       "<table border=\"1\" class=\"dataframe\">\n",
       "  <thead>\n",
       "    <tr style=\"text-align: right;\">\n",
       "      <th></th>\n",
       "      <th>close</th>\n",
       "      <th>date</th>\n",
       "      <th>symbol</th>\n",
       "    </tr>\n",
       "  </thead>\n",
       "  <tbody>\n",
       "    <tr>\n",
       "      <th>487</th>\n",
       "      <td>64.680000</td>\n",
       "      <td>2010-01-04</td>\n",
       "      <td>JNJ</td>\n",
       "    </tr>\n",
       "    <tr>\n",
       "      <th>955</th>\n",
       "      <td>63.930000</td>\n",
       "      <td>2010-01-05</td>\n",
       "      <td>JNJ</td>\n",
       "    </tr>\n",
       "    <tr>\n",
       "      <th>1423</th>\n",
       "      <td>64.449997</td>\n",
       "      <td>2010-01-06</td>\n",
       "      <td>JNJ</td>\n",
       "    </tr>\n",
       "    <tr>\n",
       "      <th>1891</th>\n",
       "      <td>63.990002</td>\n",
       "      <td>2010-01-07</td>\n",
       "      <td>JNJ</td>\n",
       "    </tr>\n",
       "    <tr>\n",
       "      <th>2359</th>\n",
       "      <td>64.209999</td>\n",
       "      <td>2010-01-08</td>\n",
       "      <td>JNJ</td>\n",
       "    </tr>\n",
       "  </tbody>\n",
       "</table>\n",
       "</div>"
      ],
      "text/plain": [
       "          close       date symbol\n",
       "487   64.680000 2010-01-04    JNJ\n",
       "955   63.930000 2010-01-05    JNJ\n",
       "1423  64.449997 2010-01-06    JNJ\n",
       "1891  63.990002 2010-01-07    JNJ\n",
       "2359  64.209999 2010-01-08    JNJ"
      ]
     },
     "execution_count": 136,
     "metadata": {},
     "output_type": "execute_result"
    }
   ],
   "source": [
    "prices.head()"
   ]
  },
  {
   "cell_type": "code",
   "execution_count": 12,
   "metadata": {},
   "outputs": [
    {
     "data": {
      "text/html": [
       "<div>\n",
       "<style scoped>\n",
       "    .dataframe tbody tr th:only-of-type {\n",
       "        vertical-align: middle;\n",
       "    }\n",
       "\n",
       "    .dataframe tbody tr th {\n",
       "        vertical-align: top;\n",
       "    }\n",
       "\n",
       "    .dataframe thead th {\n",
       "        text-align: right;\n",
       "    }\n",
       "</style>\n",
       "<table border=\"1\" class=\"dataframe\">\n",
       "  <thead>\n",
       "    <tr style=\"text-align: right;\">\n",
       "      <th></th>\n",
       "      <th>close</th>\n",
       "    </tr>\n",
       "  </thead>\n",
       "  <tbody>\n",
       "    <tr>\n",
       "      <th>count</th>\n",
       "      <td>1762.000000</td>\n",
       "    </tr>\n",
       "    <tr>\n",
       "      <th>mean</th>\n",
       "      <td>84.677701</td>\n",
       "    </tr>\n",
       "    <tr>\n",
       "      <th>std</th>\n",
       "      <td>19.808971</td>\n",
       "    </tr>\n",
       "    <tr>\n",
       "      <th>min</th>\n",
       "      <td>57.020000</td>\n",
       "    </tr>\n",
       "    <tr>\n",
       "      <th>25%</th>\n",
       "      <td>64.822500</td>\n",
       "    </tr>\n",
       "    <tr>\n",
       "      <th>50%</th>\n",
       "      <td>86.755001</td>\n",
       "    </tr>\n",
       "    <tr>\n",
       "      <th>75%</th>\n",
       "      <td>101.367503</td>\n",
       "    </tr>\n",
       "    <tr>\n",
       "      <th>max</th>\n",
       "      <td>125.400002</td>\n",
       "    </tr>\n",
       "  </tbody>\n",
       "</table>\n",
       "</div>"
      ],
      "text/plain": [
       "             close\n",
       "count  1762.000000\n",
       "mean     84.677701\n",
       "std      19.808971\n",
       "min      57.020000\n",
       "25%      64.822500\n",
       "50%      86.755001\n",
       "75%     101.367503\n",
       "max     125.400002"
      ]
     },
     "execution_count": 12,
     "metadata": {},
     "output_type": "execute_result"
    }
   ],
   "source": [
    "prices.describe()"
   ]
  },
  {
   "cell_type": "code",
   "execution_count": 15,
   "metadata": {
    "collapsed": true
   },
   "outputs": [],
   "source": [
    "prices['double']=prices.close*prices.close"
   ]
  },
  {
   "cell_type": "code",
   "execution_count": 16,
   "metadata": {
    "collapsed": true
   },
   "outputs": [],
   "source": [
    "del prices['double']"
   ]
  },
  {
   "cell_type": "code",
   "execution_count": 17,
   "metadata": {
    "collapsed": true
   },
   "outputs": [],
   "source": [
    "import matplotlib.pyplot as plt"
   ]
  },
  {
   "cell_type": "code",
   "execution_count": 18,
   "metadata": {},
   "outputs": [
    {
     "data": {
      "image/png": "[encoded data removed]",
      "text/plain": [
       "<matplotlib.figure.Figure at 0x1966e4311d0>"
      ]
     },
     "metadata": {},
     "output_type": "display_data"
    }
   ],
   "source": [
    "prices['close'].plot(grid=True)\n",
    "plt.show()"
   ]
  },
  {
   "cell_type": "code",
   "execution_count": 19,
   "metadata": {
    "collapsed": true
   },
   "outputs": [],
   "source": [
    "daily_close = prices.close"
   ]
  },
  {
   "cell_type": "code",
   "execution_count": 20,
   "metadata": {
    "collapsed": true
   },
   "outputs": [],
   "source": [
    "daily_pct_change = daily_close.pct_change()"
   ]
  },
  {
   "cell_type": "code",
   "execution_count": 68,
   "metadata": {
    "collapsed": true
   },
   "outputs": [],
   "source": [
    "prices['pct_change']=daily_pct_change"
   ]
  },
  {
   "cell_type": "code",
   "execution_count": 69,
   "metadata": {},
   "outputs": [
    {
     "data": {
      "text/html": [
       "<div>\n",
       "<style scoped>\n",
       "    .dataframe tbody tr th:only-of-type {\n",
       "        vertical-align: middle;\n",
       "    }\n",
       "\n",
       "    .dataframe tbody tr th {\n",
       "        vertical-align: top;\n",
       "    }\n",
       "\n",
       "    .dataframe thead th {\n",
       "        text-align: right;\n",
       "    }\n",
       "</style>\n",
       "<table border=\"1\" class=\"dataframe\">\n",
       "  <thead>\n",
       "    <tr style=\"text-align: right;\">\n",
       "      <th></th>\n",
       "      <th>close</th>\n",
       "      <th>date</th>\n",
       "      <th>symbol</th>\n",
       "      <th>pct_change</th>\n",
       "    </tr>\n",
       "  </thead>\n",
       "  <tbody>\n",
       "    <tr>\n",
       "      <th>487</th>\n",
       "      <td>64.680000</td>\n",
       "      <td>2010-01-04</td>\n",
       "      <td>JNJ</td>\n",
       "      <td>NaN</td>\n",
       "    </tr>\n",
       "    <tr>\n",
       "      <th>955</th>\n",
       "      <td>63.930000</td>\n",
       "      <td>2010-01-05</td>\n",
       "      <td>JNJ</td>\n",
       "      <td>-0.011596</td>\n",
       "    </tr>\n",
       "    <tr>\n",
       "      <th>1423</th>\n",
       "      <td>64.449997</td>\n",
       "      <td>2010-01-06</td>\n",
       "      <td>JNJ</td>\n",
       "      <td>0.008134</td>\n",
       "    </tr>\n",
       "    <tr>\n",
       "      <th>1891</th>\n",
       "      <td>63.990002</td>\n",
       "      <td>2010-01-07</td>\n",
       "      <td>JNJ</td>\n",
       "      <td>-0.007137</td>\n",
       "    </tr>\n",
       "    <tr>\n",
       "      <th>2359</th>\n",
       "      <td>64.209999</td>\n",
       "      <td>2010-01-08</td>\n",
       "      <td>JNJ</td>\n",
       "      <td>0.003438</td>\n",
       "    </tr>\n",
       "  </tbody>\n",
       "</table>\n",
       "</div>"
      ],
      "text/plain": [
       "          close       date symbol  pct_change\n",
       "487   64.680000 2010-01-04    JNJ         NaN\n",
       "955   63.930000 2010-01-05    JNJ   -0.011596\n",
       "1423  64.449997 2010-01-06    JNJ    0.008134\n",
       "1891  63.990002 2010-01-07    JNJ   -0.007137\n",
       "2359  64.209999 2010-01-08    JNJ    0.003438"
      ]
     },
     "execution_count": 69,
     "metadata": {},
     "output_type": "execute_result"
    }
   ],
   "source": [
    "prices.head()"
   ]
  },
  {
   "cell_type": "code",
   "execution_count": 52,
   "metadata": {},
   "outputs": [
    {
     "data": {
      "text/plain": [
       "487          NaN\n",
       "955    -0.011596\n",
       "1423    0.008134\n",
       "1891   -0.007137\n",
       "2359    0.003438\n",
       "Name: close, dtype: float64"
      ]
     },
     "execution_count": 52,
     "metadata": {},
     "output_type": "execute_result"
    }
   ],
   "source": [
    "daily_pct_change.head()"
   ]
  },
  {
   "cell_type": "code",
   "execution_count": 22,
   "metadata": {
    "collapsed": true
   },
   "outputs": [],
   "source": [
    "daily_log_returns = np.log(daily_close.pct_change()+1)"
   ]
  },
  {
   "cell_type": "code",
   "execution_count": 70,
   "metadata": {},
   "outputs": [],
   "source": [
    "prices['daily_log_returns']=daily_log_returns"
   ]
  },
  {
   "cell_type": "code",
   "execution_count": 71,
   "metadata": {
    "collapsed": true
   },
   "outputs": [],
   "source": [
    "prices.date=pd.to_datetime(prices['date'])"
   ]
  },
  {
   "cell_type": "code",
   "execution_count": 72,
   "metadata": {},
   "outputs": [
    {
     "data": {
      "text/html": [
       "<div>\n",
       "<style scoped>\n",
       "    .dataframe tbody tr th:only-of-type {\n",
       "        vertical-align: middle;\n",
       "    }\n",
       "\n",
       "    .dataframe tbody tr th {\n",
       "        vertical-align: top;\n",
       "    }\n",
       "\n",
       "    .dataframe thead th {\n",
       "        text-align: right;\n",
       "    }\n",
       "</style>\n",
       "<table border=\"1\" class=\"dataframe\">\n",
       "  <thead>\n",
       "    <tr style=\"text-align: right;\">\n",
       "      <th></th>\n",
       "      <th>close</th>\n",
       "      <th>date</th>\n",
       "      <th>symbol</th>\n",
       "      <th>pct_change</th>\n",
       "      <th>daily_log_returns</th>\n",
       "    </tr>\n",
       "  </thead>\n",
       "  <tbody>\n",
       "    <tr>\n",
       "      <th>487</th>\n",
       "      <td>64.680000</td>\n",
       "      <td>2010-01-04</td>\n",
       "      <td>JNJ</td>\n",
       "      <td>NaN</td>\n",
       "      <td>NaN</td>\n",
       "    </tr>\n",
       "    <tr>\n",
       "      <th>955</th>\n",
       "      <td>63.930000</td>\n",
       "      <td>2010-01-05</td>\n",
       "      <td>JNJ</td>\n",
       "      <td>-0.011596</td>\n",
       "      <td>-0.011663</td>\n",
       "    </tr>\n",
       "    <tr>\n",
       "      <th>1423</th>\n",
       "      <td>64.449997</td>\n",
       "      <td>2010-01-06</td>\n",
       "      <td>JNJ</td>\n",
       "      <td>0.008134</td>\n",
       "      <td>0.008101</td>\n",
       "    </tr>\n",
       "    <tr>\n",
       "      <th>1891</th>\n",
       "      <td>63.990002</td>\n",
       "      <td>2010-01-07</td>\n",
       "      <td>JNJ</td>\n",
       "      <td>-0.007137</td>\n",
       "      <td>-0.007163</td>\n",
       "    </tr>\n",
       "    <tr>\n",
       "      <th>2359</th>\n",
       "      <td>64.209999</td>\n",
       "      <td>2010-01-08</td>\n",
       "      <td>JNJ</td>\n",
       "      <td>0.003438</td>\n",
       "      <td>0.003432</td>\n",
       "    </tr>\n",
       "  </tbody>\n",
       "</table>\n",
       "</div>"
      ],
      "text/plain": [
       "          close       date symbol  pct_change  daily_log_returns\n",
       "487   64.680000 2010-01-04    JNJ         NaN                NaN\n",
       "955   63.930000 2010-01-05    JNJ   -0.011596          -0.011663\n",
       "1423  64.449997 2010-01-06    JNJ    0.008134           0.008101\n",
       "1891  63.990002 2010-01-07    JNJ   -0.007137          -0.007163\n",
       "2359  64.209999 2010-01-08    JNJ    0.003438           0.003432"
      ]
     },
     "execution_count": 72,
     "metadata": {},
     "output_type": "execute_result"
    }
   ],
   "source": [
    "prices.head()"
   ]
  },
  {
   "cell_type": "code",
   "execution_count": 73,
   "metadata": {
    "collapsed": true
   },
   "outputs": [],
   "source": [
    "monthly = prices.resample('BM',on='date').mean()"
   ]
  },
  {
   "cell_type": "code",
   "execution_count": 74,
   "metadata": {},
   "outputs": [
    {
     "data": {
      "text/html": [
       "<div>\n",
       "<style scoped>\n",
       "    .dataframe tbody tr th:only-of-type {\n",
       "        vertical-align: middle;\n",
       "    }\n",
       "\n",
       "    .dataframe tbody tr th {\n",
       "        vertical-align: top;\n",
       "    }\n",
       "\n",
       "    .dataframe thead th {\n",
       "        text-align: right;\n",
       "    }\n",
       "</style>\n",
       "<table border=\"1\" class=\"dataframe\">\n",
       "  <thead>\n",
       "    <tr style=\"text-align: right;\">\n",
       "      <th></th>\n",
       "      <th>close</th>\n",
       "      <th>pct_change</th>\n",
       "      <th>daily_log_returns</th>\n",
       "    </tr>\n",
       "    <tr>\n",
       "      <th>date</th>\n",
       "      <th></th>\n",
       "      <th></th>\n",
       "      <th></th>\n",
       "    </tr>\n",
       "  </thead>\n",
       "  <tbody>\n",
       "    <tr>\n",
       "      <th>2010-01-29</th>\n",
       "      <td>NaN</td>\n",
       "      <td>NaN</td>\n",
       "      <td>NaN</td>\n",
       "    </tr>\n",
       "    <tr>\n",
       "      <th>2010-02-26</th>\n",
       "      <td>-0.013550</td>\n",
       "      <td>-1.093870</td>\n",
       "      <td>-1.073842</td>\n",
       "    </tr>\n",
       "    <tr>\n",
       "      <th>2010-03-31</th>\n",
       "      <td>0.018571</td>\n",
       "      <td>9.343823</td>\n",
       "      <td>11.745741</td>\n",
       "    </tr>\n",
       "    <tr>\n",
       "      <th>2010-04-30</th>\n",
       "      <td>0.011565</td>\n",
       "      <td>-1.425728</td>\n",
       "      <td>-1.443515</td>\n",
       "    </tr>\n",
       "    <tr>\n",
       "      <th>2010-05-31</th>\n",
       "      <td>-0.038624</td>\n",
       "      <td>6.536313</td>\n",
       "      <td>6.399811</td>\n",
       "    </tr>\n",
       "  </tbody>\n",
       "</table>\n",
       "</div>"
      ],
      "text/plain": [
       "               close  pct_change  daily_log_returns\n",
       "date                                               \n",
       "2010-01-29       NaN         NaN                NaN\n",
       "2010-02-26 -0.013550   -1.093870          -1.073842\n",
       "2010-03-31  0.018571    9.343823          11.745741\n",
       "2010-04-30  0.011565   -1.425728          -1.443515\n",
       "2010-05-31 -0.038624    6.536313           6.399811"
      ]
     },
     "execution_count": 74,
     "metadata": {},
     "output_type": "execute_result"
    }
   ],
   "source": [
    "monthly.pct_change().head()"
   ]
  },
  {
   "cell_type": "code",
   "execution_count": 75,
   "metadata": {
    "collapsed": true
   },
   "outputs": [],
   "source": [
    "quarter = prices.resample('4M',on='date').mean()"
   ]
  },
  {
   "cell_type": "code",
   "execution_count": 76,
   "metadata": {},
   "outputs": [
    {
     "data": {
      "text/html": [
       "<div>\n",
       "<style scoped>\n",
       "    .dataframe tbody tr th:only-of-type {\n",
       "        vertical-align: middle;\n",
       "    }\n",
       "\n",
       "    .dataframe tbody tr th {\n",
       "        vertical-align: top;\n",
       "    }\n",
       "\n",
       "    .dataframe thead th {\n",
       "        text-align: right;\n",
       "    }\n",
       "</style>\n",
       "<table border=\"1\" class=\"dataframe\">\n",
       "  <thead>\n",
       "    <tr style=\"text-align: right;\">\n",
       "      <th></th>\n",
       "      <th>close</th>\n",
       "      <th>pct_change</th>\n",
       "      <th>daily_log_returns</th>\n",
       "    </tr>\n",
       "    <tr>\n",
       "      <th>date</th>\n",
       "      <th></th>\n",
       "      <th></th>\n",
       "      <th></th>\n",
       "    </tr>\n",
       "  </thead>\n",
       "  <tbody>\n",
       "    <tr>\n",
       "      <th>2010-01-31</th>\n",
       "      <td>NaN</td>\n",
       "      <td>NaN</td>\n",
       "      <td>NaN</td>\n",
       "    </tr>\n",
       "    <tr>\n",
       "      <th>2010-05-31</th>\n",
       "      <td>-0.003144</td>\n",
       "      <td>-0.435290</td>\n",
       "      <td>-0.427796</td>\n",
       "    </tr>\n",
       "    <tr>\n",
       "      <th>2010-09-30</th>\n",
       "      <td>-0.071521</td>\n",
       "      <td>-1.858913</td>\n",
       "      <td>-1.780302</td>\n",
       "    </tr>\n",
       "    <tr>\n",
       "      <th>2011-01-31</th>\n",
       "      <td>0.058470</td>\n",
       "      <td>-1.542198</td>\n",
       "      <td>-1.605088</td>\n",
       "    </tr>\n",
       "    <tr>\n",
       "      <th>2011-05-31</th>\n",
       "      <td>-0.013285</td>\n",
       "      <td>-4.611060</td>\n",
       "      <td>-4.332920</td>\n",
       "    </tr>\n",
       "  </tbody>\n",
       "</table>\n",
       "</div>"
      ],
      "text/plain": [
       "               close  pct_change  daily_log_returns\n",
       "date                                               \n",
       "2010-01-31       NaN         NaN                NaN\n",
       "2010-05-31 -0.003144   -0.435290          -0.427796\n",
       "2010-09-30 -0.071521   -1.858913          -1.780302\n",
       "2011-01-31  0.058470   -1.542198          -1.605088\n",
       "2011-05-31 -0.013285   -4.611060          -4.332920"
      ]
     },
     "execution_count": 76,
     "metadata": {},
     "output_type": "execute_result"
    }
   ],
   "source": [
    "quarter.pct_change().head()"
   ]
  },
  {
   "cell_type": "code",
   "execution_count": 77,
   "metadata": {
    "collapsed": true
   },
   "outputs": [],
   "source": [
    "daily_shift = daily_close/daily_close.shift(1) -1"
   ]
  },
  {
   "cell_type": "code",
   "execution_count": 78,
   "metadata": {},
   "outputs": [],
   "source": [
    "prices['daily_shift']=daily_shift"
   ]
  },
  {
   "cell_type": "code",
   "execution_count": 79,
   "metadata": {},
   "outputs": [
    {
     "data": {
      "text/html": [
       "<div>\n",
       "<style scoped>\n",
       "    .dataframe tbody tr th:only-of-type {\n",
       "        vertical-align: middle;\n",
       "    }\n",
       "\n",
       "    .dataframe tbody tr th {\n",
       "        vertical-align: top;\n",
       "    }\n",
       "\n",
       "    .dataframe thead th {\n",
       "        text-align: right;\n",
       "    }\n",
       "</style>\n",
       "<table border=\"1\" class=\"dataframe\">\n",
       "  <thead>\n",
       "    <tr style=\"text-align: right;\">\n",
       "      <th></th>\n",
       "      <th>close</th>\n",
       "      <th>date</th>\n",
       "      <th>symbol</th>\n",
       "      <th>pct_change</th>\n",
       "      <th>daily_log_returns</th>\n",
       "      <th>daily_shift</th>\n",
       "    </tr>\n",
       "  </thead>\n",
       "  <tbody>\n",
       "    <tr>\n",
       "      <th>487</th>\n",
       "      <td>64.680000</td>\n",
       "      <td>2010-01-04</td>\n",
       "      <td>JNJ</td>\n",
       "      <td>NaN</td>\n",
       "      <td>NaN</td>\n",
       "      <td>NaN</td>\n",
       "    </tr>\n",
       "    <tr>\n",
       "      <th>955</th>\n",
       "      <td>63.930000</td>\n",
       "      <td>2010-01-05</td>\n",
       "      <td>JNJ</td>\n",
       "      <td>-0.011596</td>\n",
       "      <td>-0.011663</td>\n",
       "      <td>-0.011596</td>\n",
       "    </tr>\n",
       "    <tr>\n",
       "      <th>1423</th>\n",
       "      <td>64.449997</td>\n",
       "      <td>2010-01-06</td>\n",
       "      <td>JNJ</td>\n",
       "      <td>0.008134</td>\n",
       "      <td>0.008101</td>\n",
       "      <td>0.008134</td>\n",
       "    </tr>\n",
       "    <tr>\n",
       "      <th>1891</th>\n",
       "      <td>63.990002</td>\n",
       "      <td>2010-01-07</td>\n",
       "      <td>JNJ</td>\n",
       "      <td>-0.007137</td>\n",
       "      <td>-0.007163</td>\n",
       "      <td>-0.007137</td>\n",
       "    </tr>\n",
       "    <tr>\n",
       "      <th>2359</th>\n",
       "      <td>64.209999</td>\n",
       "      <td>2010-01-08</td>\n",
       "      <td>JNJ</td>\n",
       "      <td>0.003438</td>\n",
       "      <td>0.003432</td>\n",
       "      <td>0.003438</td>\n",
       "    </tr>\n",
       "  </tbody>\n",
       "</table>\n",
       "</div>"
      ],
      "text/plain": [
       "          close       date symbol  pct_change  daily_log_returns  daily_shift\n",
       "487   64.680000 2010-01-04    JNJ         NaN                NaN          NaN\n",
       "955   63.930000 2010-01-05    JNJ   -0.011596          -0.011663    -0.011596\n",
       "1423  64.449997 2010-01-06    JNJ    0.008134           0.008101     0.008134\n",
       "1891  63.990002 2010-01-07    JNJ   -0.007137          -0.007163    -0.007137\n",
       "2359  64.209999 2010-01-08    JNJ    0.003438           0.003432     0.003438"
      ]
     },
     "execution_count": 79,
     "metadata": {},
     "output_type": "execute_result"
    }
   ],
   "source": [
    "prices.head()"
   ]
  },
  {
   "cell_type": "code",
   "execution_count": 80,
   "metadata": {},
   "outputs": [
    {
     "data": {
      "image/png": "[encoded data removed]",
      "text/plain": [
       "<matplotlib.figure.Figure at 0x196782bc710>"
      ]
     },
     "metadata": {},
     "output_type": "display_data"
    }
   ],
   "source": [
    "daily_pct_change.hist(bins=50)\n",
    "plt.xlim([-0.05,0.05])\n",
    "plt.ylim([0,250])\n",
    "plt.show()"
   ]
  },
  {
   "cell_type": "code",
   "execution_count": 81,
   "metadata": {},
   "outputs": [
    {
     "data": {
      "text/plain": [
       "count    1761.000000\n",
       "mean        0.000367\n",
       "std         0.008889\n",
       "min        -0.032696\n",
       "25%        -0.004183\n",
       "50%         0.000198\n",
       "75%         0.005226\n",
       "max         0.053821\n",
       "Name: close, dtype: float64"
      ]
     },
     "execution_count": 81,
     "metadata": {},
     "output_type": "execute_result"
    }
   ],
   "source": [
    "daily_pct_change.describe()"
   ]
  },
  {
   "cell_type": "code",
   "execution_count": 82,
   "metadata": {
    "collapsed": true
   },
   "outputs": [],
   "source": [
    "cum_daily_return = (1+ daily_pct_change).cumprod()"
   ]
  },
  {
   "cell_type": "code",
   "execution_count": 83,
   "metadata": {},
   "outputs": [],
   "source": [
    "prices['cum_daily_return']=cum_daily_return"
   ]
  },
  {
   "cell_type": "code",
   "execution_count": 84,
   "metadata": {},
   "outputs": [
    {
     "data": {
      "image/png": "[encoded data removed]",
      "text/plain": [
       "<matplotlib.figure.Figure at 0x19667a0f898>"
      ]
     },
     "metadata": {},
     "output_type": "display_data"
    }
   ],
   "source": [
    "cum_daily_return.plot(figsize=(12,8))\n",
    "plt.show()"
   ]
  },
  {
   "cell_type": "code",
   "execution_count": 41,
   "metadata": {},
   "outputs": [
    {
     "data": {
      "text/plain": [
       "487          NaN\n",
       "955     0.988404\n",
       "1423    0.996444\n",
       "1891    0.989332\n",
       "2359    0.992733\n",
       "Name: close, dtype: float64"
      ]
     },
     "execution_count": 41,
     "metadata": {},
     "output_type": "execute_result"
    }
   ],
   "source": [
    "cum_daily_return.head()"
   ]
  },
  {
   "cell_type": "code",
   "execution_count": 87,
   "metadata": {},
   "outputs": [
    {
     "data": {
      "text/html": [
       "<div>\n",
       "<style scoped>\n",
       "    .dataframe tbody tr th:only-of-type {\n",
       "        vertical-align: middle;\n",
       "    }\n",
       "\n",
       "    .dataframe tbody tr th {\n",
       "        vertical-align: top;\n",
       "    }\n",
       "\n",
       "    .dataframe thead th {\n",
       "        text-align: right;\n",
       "    }\n",
       "</style>\n",
       "<table border=\"1\" class=\"dataframe\">\n",
       "  <thead>\n",
       "    <tr style=\"text-align: right;\">\n",
       "      <th></th>\n",
       "      <th>close</th>\n",
       "      <th>pct_change</th>\n",
       "      <th>daily_log_returns</th>\n",
       "      <th>daily_shift</th>\n",
       "      <th>cum_daily_return</th>\n",
       "    </tr>\n",
       "    <tr>\n",
       "      <th>date</th>\n",
       "      <th></th>\n",
       "      <th></th>\n",
       "      <th></th>\n",
       "      <th></th>\n",
       "      <th></th>\n",
       "    </tr>\n",
       "  </thead>\n",
       "  <tbody>\n",
       "    <tr>\n",
       "      <th>2010-01-31</th>\n",
       "      <td>64.128947</td>\n",
       "      <td>-0.001546</td>\n",
       "      <td>-0.001586</td>\n",
       "      <td>-0.001546</td>\n",
       "      <td>0.991007</td>\n",
       "    </tr>\n",
       "    <tr>\n",
       "      <th>2010-02-28</th>\n",
       "      <td>63.260000</td>\n",
       "      <td>0.000145</td>\n",
       "      <td>0.000117</td>\n",
       "      <td>0.000145</td>\n",
       "      <td>0.978046</td>\n",
       "    </tr>\n",
       "    <tr>\n",
       "      <th>2010-03-31</th>\n",
       "      <td>64.434782</td>\n",
       "      <td>0.001501</td>\n",
       "      <td>0.001492</td>\n",
       "      <td>0.001501</td>\n",
       "      <td>0.996209</td>\n",
       "    </tr>\n",
       "    <tr>\n",
       "      <th>2010-04-30</th>\n",
       "      <td>65.180000</td>\n",
       "      <td>-0.000639</td>\n",
       "      <td>-0.000662</td>\n",
       "      <td>-0.000639</td>\n",
       "      <td>1.007730</td>\n",
       "    </tr>\n",
       "    <tr>\n",
       "      <th>2010-05-31</th>\n",
       "      <td>62.662500</td>\n",
       "      <td>-0.004815</td>\n",
       "      <td>-0.004898</td>\n",
       "      <td>-0.004815</td>\n",
       "      <td>0.968808</td>\n",
       "    </tr>\n",
       "  </tbody>\n",
       "</table>\n",
       "</div>"
      ],
      "text/plain": [
       "                close  pct_change  daily_log_returns  daily_shift  \\\n",
       "date                                                                \n",
       "2010-01-31  64.128947   -0.001546          -0.001586    -0.001546   \n",
       "2010-02-28  63.260000    0.000145           0.000117     0.000145   \n",
       "2010-03-31  64.434782    0.001501           0.001492     0.001501   \n",
       "2010-04-30  65.180000   -0.000639          -0.000662    -0.000639   \n",
       "2010-05-31  62.662500   -0.004815          -0.004898    -0.004815   \n",
       "\n",
       "            cum_daily_return  \n",
       "date                          \n",
       "2010-01-31          0.991007  \n",
       "2010-02-28          0.978046  \n",
       "2010-03-31          0.996209  \n",
       "2010-04-30          1.007730  \n",
       "2010-05-31          0.968808  "
      ]
     },
     "execution_count": 87,
     "metadata": {},
     "output_type": "execute_result"
    }
   ],
   "source": [
    "prices.resample('M',on='date').mean().head()"
   ]
  },
  {
   "cell_type": "code",
   "execution_count": 223,
   "metadata": {},
   "outputs": [],
   "source": [
    "adj_close=prices[['date','close']]"
   ]
  },
  {
   "cell_type": "code",
   "execution_count": 99,
   "metadata": {
    "collapsed": true
   },
   "outputs": [],
   "source": [
    "moving_avg=adj_close.rolling(window=40).mean()"
   ]
  },
  {
   "cell_type": "code",
   "execution_count": 101,
   "metadata": {},
   "outputs": [],
   "source": [
    "prices['moving_avg']=moving_avg"
   ]
  },
  {
   "cell_type": "code",
   "execution_count": 104,
   "metadata": {
    "collapsed": true
   },
   "outputs": [],
   "source": [
    "moving_max=adj_close.rolling(window=40).max()"
   ]
  },
  {
   "cell_type": "code",
   "execution_count": 105,
   "metadata": {
    "collapsed": true
   },
   "outputs": [],
   "source": [
    "moving_min=adj_close.rolling(window=40).min()"
   ]
  },
  {
   "cell_type": "code",
   "execution_count": 106,
   "metadata": {
    "collapsed": true
   },
   "outputs": [],
   "source": [
    "moving_var=adj_close.rolling(window=40).var()"
   ]
  },
  {
   "cell_type": "code",
   "execution_count": 107,
   "metadata": {
    "collapsed": true
   },
   "outputs": [],
   "source": [
    "prices['moving_max']=moving_max\n",
    "prices['moving_min']=moving_min\n",
    "prices['moving_var']=moving_var"
   ]
  },
  {
   "cell_type": "code",
   "execution_count": 114,
   "metadata": {},
   "outputs": [
    {
     "data": {
      "text/html": [
       "<div>\n",
       "<style scoped>\n",
       "    .dataframe tbody tr th:only-of-type {\n",
       "        vertical-align: middle;\n",
       "    }\n",
       "\n",
       "    .dataframe tbody tr th {\n",
       "        vertical-align: top;\n",
       "    }\n",
       "\n",
       "    .dataframe thead th {\n",
       "        text-align: right;\n",
       "    }\n",
       "</style>\n",
       "<table border=\"1\" class=\"dataframe\">\n",
       "  <thead>\n",
       "    <tr style=\"text-align: right;\">\n",
       "      <th></th>\n",
       "      <th>close</th>\n",
       "      <th>date</th>\n",
       "      <th>symbol</th>\n",
       "      <th>pct_change</th>\n",
       "      <th>daily_log_returns</th>\n",
       "      <th>daily_shift</th>\n",
       "      <th>cum_daily_return</th>\n",
       "      <th>moving_avg</th>\n",
       "      <th>moving_max</th>\n",
       "      <th>moving_min</th>\n",
       "      <th>moving_var</th>\n",
       "    </tr>\n",
       "  </thead>\n",
       "  <tbody>\n",
       "    <tr>\n",
       "      <th>849013</th>\n",
       "      <td>115.959999</td>\n",
       "      <td>2016-12-23</td>\n",
       "      <td>JNJ</td>\n",
       "      <td>0.004504</td>\n",
       "      <td>0.004494</td>\n",
       "      <td>0.004504</td>\n",
       "      <td>1.792826</td>\n",
       "      <td>114.87100</td>\n",
       "      <td>120.309998</td>\n",
       "      <td>110.989998</td>\n",
       "      <td>4.989179</td>\n",
       "    </tr>\n",
       "    <tr>\n",
       "      <th>849513</th>\n",
       "      <td>115.910004</td>\n",
       "      <td>2016-12-27</td>\n",
       "      <td>JNJ</td>\n",
       "      <td>-0.000431</td>\n",
       "      <td>-0.000431</td>\n",
       "      <td>-0.000431</td>\n",
       "      <td>1.792053</td>\n",
       "      <td>114.88550</td>\n",
       "      <td>120.309998</td>\n",
       "      <td>110.989998</td>\n",
       "      <td>5.011242</td>\n",
       "    </tr>\n",
       "    <tr>\n",
       "      <th>850013</th>\n",
       "      <td>115.099998</td>\n",
       "      <td>2016-12-28</td>\n",
       "      <td>JNJ</td>\n",
       "      <td>-0.006988</td>\n",
       "      <td>-0.007013</td>\n",
       "      <td>-0.006988</td>\n",
       "      <td>1.779530</td>\n",
       "      <td>114.86325</td>\n",
       "      <td>120.309998</td>\n",
       "      <td>110.989998</td>\n",
       "      <td>4.980634</td>\n",
       "    </tr>\n",
       "    <tr>\n",
       "      <th>850513</th>\n",
       "      <td>115.489998</td>\n",
       "      <td>2016-12-29</td>\n",
       "      <td>JNJ</td>\n",
       "      <td>0.003388</td>\n",
       "      <td>0.003383</td>\n",
       "      <td>0.003388</td>\n",
       "      <td>1.785560</td>\n",
       "      <td>114.86700</td>\n",
       "      <td>120.309998</td>\n",
       "      <td>110.989998</td>\n",
       "      <td>4.984864</td>\n",
       "    </tr>\n",
       "    <tr>\n",
       "      <th>851013</th>\n",
       "      <td>115.209999</td>\n",
       "      <td>2016-12-30</td>\n",
       "      <td>JNJ</td>\n",
       "      <td>-0.002424</td>\n",
       "      <td>-0.002427</td>\n",
       "      <td>-0.002424</td>\n",
       "      <td>1.781231</td>\n",
       "      <td>114.87575</td>\n",
       "      <td>120.309998</td>\n",
       "      <td>110.989998</td>\n",
       "      <td>4.987801</td>\n",
       "    </tr>\n",
       "  </tbody>\n",
       "</table>\n",
       "</div>"
      ],
      "text/plain": [
       "             close       date symbol  pct_change  daily_log_returns  \\\n",
       "849013  115.959999 2016-12-23    JNJ    0.004504           0.004494   \n",
       "849513  115.910004 2016-12-27    JNJ   -0.000431          -0.000431   \n",
       "850013  115.099998 2016-12-28    JNJ   -0.006988          -0.007013   \n",
       "850513  115.489998 2016-12-29    JNJ    0.003388           0.003383   \n",
       "851013  115.209999 2016-12-30    JNJ   -0.002424          -0.002427   \n",
       "\n",
       "        daily_shift  cum_daily_return  moving_avg  moving_max  moving_min  \\\n",
       "849013     0.004504          1.792826   114.87100  120.309998  110.989998   \n",
       "849513    -0.000431          1.792053   114.88550  120.309998  110.989998   \n",
       "850013    -0.006988          1.779530   114.86325  120.309998  110.989998   \n",
       "850513     0.003388          1.785560   114.86700  120.309998  110.989998   \n",
       "851013    -0.002424          1.781231   114.87575  120.309998  110.989998   \n",
       "\n",
       "        moving_var  \n",
       "849013    4.989179  \n",
       "849513    5.011242  \n",
       "850013    4.980634  \n",
       "850513    4.984864  \n",
       "851013    4.987801  "
      ]
     },
     "execution_count": 114,
     "metadata": {},
     "output_type": "execute_result"
    }
   ],
   "source": [
    "prices.tail()"
   ]
  },
  {
   "cell_type": "code",
   "execution_count": 115,
   "metadata": {
    "collapsed": true
   },
   "outputs": [],
   "source": [
    "moving_long=adj_close.rolling(window=200).mean()"
   ]
  },
  {
   "cell_type": "code",
   "execution_count": 116,
   "metadata": {
    "collapsed": true
   },
   "outputs": [],
   "source": [
    "prices['moving_long']=moving_long"
   ]
  },
  {
   "cell_type": "code",
   "execution_count": 118,
   "metadata": {},
   "outputs": [
    {
     "data": {
      "text/plain": [
       "<matplotlib.axes._subplots.AxesSubplot at 0x19667afc0b8>"
      ]
     },
     "execution_count": 118,
     "metadata": {},
     "output_type": "execute_result"
    }
   ],
   "source": [
    "prices[['close','moving_avg','moving_long']].plot()"
   ]
  },
  {
   "cell_type": "code",
   "execution_count": 119,
   "metadata": {},
   "outputs": [
    {
     "data": {
      "image/png": "[encoded data removed]",
      "text/plain": [
       "<matplotlib.figure.Figure at 0x19677e81c88>"
      ]
     },
     "metadata": {},
     "output_type": "display_data"
    }
   ],
   "source": [
    "plt.show()"
   ]
  },
  {
   "cell_type": "code",
   "execution_count": 144,
   "metadata": {},
   "outputs": [],
   "source": [
    "min_periods=75\n",
    "vol = daily_pct_change.rolling(min_periods).std() * np.sqrt(min_periods) "
   ]
  },
  {
   "cell_type": "code",
   "execution_count": 145,
   "metadata": {
    "collapsed": true
   },
   "outputs": [],
   "source": [
    "prices['vol']=vol"
   ]
  },
  {
   "cell_type": "code",
   "execution_count": 146,
   "metadata": {},
   "outputs": [
    {
     "data": {
      "text/plain": [
       "<matplotlib.axes._subplots.AxesSubplot at 0x1966d07c8d0>"
      ]
     },
     "execution_count": 146,
     "metadata": {},
     "output_type": "execute_result"
    }
   ],
   "source": [
    "vol.plot()"
   ]
  },
  {
   "cell_type": "code",
   "execution_count": 156,
   "metadata": {},
   "outputs": [
    {
     "data": {
      "text/plain": [
       "<matplotlib.axes._subplots.AxesSubplot at 0x1966fca5630>"
      ]
     },
     "execution_count": 156,
     "metadata": {},
     "output_type": "execute_result"
    }
   ],
   "source": [
    "prices.plot(x='date',y='vol')"
   ]
  },
  {
   "cell_type": "code",
   "execution_count": 157,
   "metadata": {},
   "outputs": [
    {
     "data": {
      "image/png": "[encoded data removed]",
      "text/plain": [
       "<matplotlib.figure.Figure at 0x1966fc8f8d0>"
      ]
     },
     "metadata": {},
     "output_type": "display_data"
    }
   ],
   "source": [
    "plt.show()"
   ]
  },
  {
   "cell_type": "code",
   "execution_count": 159,
   "metadata": {},
   "outputs": [],
   "source": [
    "import statsmodels.api as sm\n",
    "from pandas.core import datetools"
   ]
  },
  {
   "cell_type": "code",
   "execution_count": 210,
   "metadata": {},
   "outputs": [],
   "source": [
    "adj_close=adj_close.dropna()\n",
    "shift=adj_close.shift(1)\n",
    "shift=shift.dropna()"
   ]
  },
  {
   "cell_type": "code",
   "execution_count": 211,
   "metadata": {
    "collapsed": true
   },
   "outputs": [],
   "source": [
    "all_returns=np.log(adj_close/adj_close.shift(1))"
   ]
  },
  {
   "cell_type": "code",
   "execution_count": 212,
   "metadata": {
    "collapsed": true
   },
   "outputs": [],
   "source": [
    "x=sm.add_constant(all_returns)"
   ]
  },
  {
   "cell_type": "code",
   "execution_count": 213,
   "metadata": {},
   "outputs": [
    {
     "name": "stderr",
     "output_type": "stream",
     "text": [
      "C:\\Users\\Rathin\\Anaconda3\\lib\\site-packages\\numpy\\linalg\\linalg.py:1574: RuntimeWarning: invalid value encountered in greater\n",
      "  return (S > tol).sum(axis=-1)\n"
     ]
    }
   ],
   "source": [
    "model=sm.OLS(all_returns,x).fit()"
   ]
  },
  {
   "cell_type": "code",
   "execution_count": 214,
   "metadata": {},
   "outputs": [
    {
     "name": "stdout",
     "output_type": "stream",
     "text": [
      "                            OLS Regression Results                            \n",
      "==============================================================================\n",
      "Dep. Variable:                  close   R-squared:                         nan\n",
      "Model:                            OLS   Adj. R-squared:                    nan\n",
      "Method:                 Least Squares   F-statistic:                       nan\n",
      "Date:                Thu, 19 Apr 2018   Prob (F-statistic):                nan\n",
      "Time:                        01:47:41   Log-Likelihood:                    nan\n",
      "No. Observations:                1762   AIC:                               nan\n",
      "Df Residuals:                    1762   BIC:                               nan\n",
      "Df Model:                          -1                                         \n",
      "Covariance Type:            nonrobust                                         \n",
      "==============================================================================\n",
      "                 coef    std err          t      P>|t|      [0.025      0.975]\n",
      "------------------------------------------------------------------------------\n",
      "const             nan        nan        nan        nan         nan         nan\n",
      "close             nan        nan        nan        nan         nan         nan\n",
      "==============================================================================\n",
      "Omnibus:                          nan   Durbin-Watson:                     nan\n",
      "Prob(Omnibus):                    nan   Jarque-Bera (JB):                  nan\n",
      "Skew:                             nan   Prob(JB):                          nan\n",
      "Kurtosis:                         nan   Cond. No.                          nan\n",
      "==============================================================================\n",
      "\n",
      "Warnings:\n",
      "[1] Standard Errors assume that the covariance matrix of the errors is correctly specified.\n"
     ]
    },
    {
     "name": "stderr",
     "output_type": "stream",
     "text": [
      "C:\\Users\\Rathin\\Anaconda3\\lib\\site-packages\\scipy\\stats\\_distn_infrastructure.py:879: RuntimeWarning: invalid value encountered in greater\n",
      "  return (self.a < x) & (x < self.b)\n",
      "C:\\Users\\Rathin\\Anaconda3\\lib\\site-packages\\scipy\\stats\\_distn_infrastructure.py:879: RuntimeWarning: invalid value encountered in less\n",
      "  return (self.a < x) & (x < self.b)\n",
      "C:\\Users\\Rathin\\Anaconda3\\lib\\site-packages\\scipy\\stats\\_distn_infrastructure.py:1818: RuntimeWarning: invalid value encountered in less_equal\n",
      "  cond2 = cond0 & (x <= self.a)\n",
      "C:\\Users\\Rathin\\Anaconda3\\lib\\site-packages\\scipy\\stats\\stats.py:1348: RuntimeWarning: invalid value encountered in less\n",
      "  term2 = np.where(denom < 0, term1, np.power((1-2.0/A)/denom, 1/3.0))\n"
     ]
    }
   ],
   "source": [
    "print(model.summary())"
   ]
  },
  {
   "cell_type": "code",
   "execution_count": 218,
   "metadata": {},
   "outputs": [
    {
     "ename": "KeyError",
     "evalue": "('date', 'close')",
     "output_type": "error",
     "traceback": [
      "\u001b[1;31m---------------------------------------------------------------------------\u001b[0m",
      "\u001b[1;31mKeyError\u001b[0m                                  Traceback (most recent call last)",
      "\u001b[1;32m~\\Anaconda3\\lib\\site-packages\\pandas\\core\\indexes\\base.py\u001b[0m in \u001b[0;36mget_loc\u001b[1;34m(self, key, method, tolerance)\u001b[0m\n\u001b[0;32m   2524\u001b[0m             \u001b[1;32mtry\u001b[0m\u001b[1;33m:\u001b[0m\u001b[1;33m\u001b[0m\u001b[0m\n\u001b[1;32m-> 2525\u001b[1;33m                 \u001b[1;32mreturn\u001b[0m \u001b[0mself\u001b[0m\u001b[1;33m.\u001b[0m\u001b[0m_engine\u001b[0m\u001b[1;33m.\u001b[0m\u001b[0mget_loc\u001b[0m\u001b[1;33m(\u001b[0m\u001b[0mkey\u001b[0m\u001b[1;33m)\u001b[0m\u001b[1;33m\u001b[0m\u001b[0m\n\u001b[0m\u001b[0;32m   2526\u001b[0m             \u001b[1;32mexcept\u001b[0m \u001b[0mKeyError\u001b[0m\u001b[1;33m:\u001b[0m\u001b[1;33m\u001b[0m\u001b[0m\n",
      "\u001b[1;32mpandas/_libs/index.pyx\u001b[0m in \u001b[0;36mpandas._libs.index.IndexEngine.get_loc\u001b[1;34m()\u001b[0m\n",
      "\u001b[1;32mpandas/_libs/index.pyx\u001b[0m in \u001b[0;36mpandas._libs.index.IndexEngine.get_loc\u001b[1;34m()\u001b[0m\n",
      "\u001b[1;32mpandas/_libs/hashtable_class_helper.pxi\u001b[0m in \u001b[0;36mpandas._libs.hashtable.PyObjectHashTable.get_item\u001b[1;34m()\u001b[0m\n",
      "\u001b[1;32mpandas/_libs/hashtable_class_helper.pxi\u001b[0m in \u001b[0;36mpandas._libs.hashtable.PyObjectHashTable.get_item\u001b[1;34m()\u001b[0m\n",
      "\u001b[1;31mKeyError\u001b[0m: ('date', 'close')",
      "\nDuring handling of the above exception, another exception occurred:\n",
      "\u001b[1;31mKeyError\u001b[0m                                  Traceback (most recent call last)",
      "\u001b[1;32m<ipython-input-218-a29c064abd13>\u001b[0m in \u001b[0;36m<module>\u001b[1;34m()\u001b[0m\n\u001b[1;32m----> 1\u001b[1;33m \u001b[0mcl\u001b[0m\u001b[1;33m=\u001b[0m\u001b[0mprices\u001b[0m\u001b[1;33m[\u001b[0m\u001b[1;34m'date'\u001b[0m\u001b[1;33m,\u001b[0m\u001b[1;34m'close'\u001b[0m\u001b[1;33m]\u001b[0m\u001b[1;33m\u001b[0m\u001b[0m\n\u001b[0m",
      "\u001b[1;32m~\\Anaconda3\\lib\\site-packages\\pandas\\core\\frame.py\u001b[0m in \u001b[0;36m__getitem__\u001b[1;34m(self, key)\u001b[0m\n\u001b[0;32m   2137\u001b[0m             \u001b[1;32mreturn\u001b[0m \u001b[0mself\u001b[0m\u001b[1;33m.\u001b[0m\u001b[0m_getitem_multilevel\u001b[0m\u001b[1;33m(\u001b[0m\u001b[0mkey\u001b[0m\u001b[1;33m)\u001b[0m\u001b[1;33m\u001b[0m\u001b[0m\n\u001b[0;32m   2138\u001b[0m         \u001b[1;32melse\u001b[0m\u001b[1;33m:\u001b[0m\u001b[1;33m\u001b[0m\u001b[0m\n\u001b[1;32m-> 2139\u001b[1;33m             \u001b[1;32mreturn\u001b[0m \u001b[0mself\u001b[0m\u001b[1;33m.\u001b[0m\u001b[0m_getitem_column\u001b[0m\u001b[1;33m(\u001b[0m\u001b[0mkey\u001b[0m\u001b[1;33m)\u001b[0m\u001b[1;33m\u001b[0m\u001b[0m\n\u001b[0m\u001b[0;32m   2140\u001b[0m \u001b[1;33m\u001b[0m\u001b[0m\n\u001b[0;32m   2141\u001b[0m     \u001b[1;32mdef\u001b[0m \u001b[0m_getitem_column\u001b[0m\u001b[1;33m(\u001b[0m\u001b[0mself\u001b[0m\u001b[1;33m,\u001b[0m \u001b[0mkey\u001b[0m\u001b[1;33m)\u001b[0m\u001b[1;33m:\u001b[0m\u001b[1;33m\u001b[0m\u001b[0m\n",
      "\u001b[1;32m~\\Anaconda3\\lib\\site-packages\\pandas\\core\\frame.py\u001b[0m in \u001b[0;36m_getitem_column\u001b[1;34m(self, key)\u001b[0m\n\u001b[0;32m   2144\u001b[0m         \u001b[1;31m# get column\u001b[0m\u001b[1;33m\u001b[0m\u001b[1;33m\u001b[0m\u001b[0m\n\u001b[0;32m   2145\u001b[0m         \u001b[1;32mif\u001b[0m \u001b[0mself\u001b[0m\u001b[1;33m.\u001b[0m\u001b[0mcolumns\u001b[0m\u001b[1;33m.\u001b[0m\u001b[0mis_unique\u001b[0m\u001b[1;33m:\u001b[0m\u001b[1;33m\u001b[0m\u001b[0m\n\u001b[1;32m-> 2146\u001b[1;33m             \u001b[1;32mreturn\u001b[0m \u001b[0mself\u001b[0m\u001b[1;33m.\u001b[0m\u001b[0m_get_item_cache\u001b[0m\u001b[1;33m(\u001b[0m\u001b[0mkey\u001b[0m\u001b[1;33m)\u001b[0m\u001b[1;33m\u001b[0m\u001b[0m\n\u001b[0m\u001b[0;32m   2147\u001b[0m \u001b[1;33m\u001b[0m\u001b[0m\n\u001b[0;32m   2148\u001b[0m         \u001b[1;31m# duplicate columns & possible reduce dimensionality\u001b[0m\u001b[1;33m\u001b[0m\u001b[1;33m\u001b[0m\u001b[0m\n",
      "\u001b[1;32m~\\Anaconda3\\lib\\site-packages\\pandas\\core\\generic.py\u001b[0m in \u001b[0;36m_get_item_cache\u001b[1;34m(self, item)\u001b[0m\n\u001b[0;32m   1840\u001b[0m         \u001b[0mres\u001b[0m \u001b[1;33m=\u001b[0m \u001b[0mcache\u001b[0m\u001b[1;33m.\u001b[0m\u001b[0mget\u001b[0m\u001b[1;33m(\u001b[0m\u001b[0mitem\u001b[0m\u001b[1;33m)\u001b[0m\u001b[1;33m\u001b[0m\u001b[0m\n\u001b[0;32m   1841\u001b[0m         \u001b[1;32mif\u001b[0m \u001b[0mres\u001b[0m \u001b[1;32mis\u001b[0m \u001b[1;32mNone\u001b[0m\u001b[1;33m:\u001b[0m\u001b[1;33m\u001b[0m\u001b[0m\n\u001b[1;32m-> 1842\u001b[1;33m             \u001b[0mvalues\u001b[0m \u001b[1;33m=\u001b[0m \u001b[0mself\u001b[0m\u001b[1;33m.\u001b[0m\u001b[0m_data\u001b[0m\u001b[1;33m.\u001b[0m\u001b[0mget\u001b[0m\u001b[1;33m(\u001b[0m\u001b[0mitem\u001b[0m\u001b[1;33m)\u001b[0m\u001b[1;33m\u001b[0m\u001b[0m\n\u001b[0m\u001b[0;32m   1843\u001b[0m             \u001b[0mres\u001b[0m \u001b[1;33m=\u001b[0m \u001b[0mself\u001b[0m\u001b[1;33m.\u001b[0m\u001b[0m_box_item_values\u001b[0m\u001b[1;33m(\u001b[0m\u001b[0mitem\u001b[0m\u001b[1;33m,\u001b[0m \u001b[0mvalues\u001b[0m\u001b[1;33m)\u001b[0m\u001b[1;33m\u001b[0m\u001b[0m\n\u001b[0;32m   1844\u001b[0m             \u001b[0mcache\u001b[0m\u001b[1;33m[\u001b[0m\u001b[0mitem\u001b[0m\u001b[1;33m]\u001b[0m \u001b[1;33m=\u001b[0m \u001b[0mres\u001b[0m\u001b[1;33m\u001b[0m\u001b[0m\n",
      "\u001b[1;32m~\\Anaconda3\\lib\\site-packages\\pandas\\core\\internals.py\u001b[0m in \u001b[0;36mget\u001b[1;34m(self, item, fastpath)\u001b[0m\n\u001b[0;32m   3841\u001b[0m \u001b[1;33m\u001b[0m\u001b[0m\n\u001b[0;32m   3842\u001b[0m             \u001b[1;32mif\u001b[0m \u001b[1;32mnot\u001b[0m \u001b[0misna\u001b[0m\u001b[1;33m(\u001b[0m\u001b[0mitem\u001b[0m\u001b[1;33m)\u001b[0m\u001b[1;33m:\u001b[0m\u001b[1;33m\u001b[0m\u001b[0m\n\u001b[1;32m-> 3843\u001b[1;33m                 \u001b[0mloc\u001b[0m \u001b[1;33m=\u001b[0m \u001b[0mself\u001b[0m\u001b[1;33m.\u001b[0m\u001b[0mitems\u001b[0m\u001b[1;33m.\u001b[0m\u001b[0mget_loc\u001b[0m\u001b[1;33m(\u001b[0m\u001b[0mitem\u001b[0m\u001b[1;33m)\u001b[0m\u001b[1;33m\u001b[0m\u001b[0m\n\u001b[0m\u001b[0;32m   3844\u001b[0m             \u001b[1;32melse\u001b[0m\u001b[1;33m:\u001b[0m\u001b[1;33m\u001b[0m\u001b[0m\n\u001b[0;32m   3845\u001b[0m                 \u001b[0mindexer\u001b[0m \u001b[1;33m=\u001b[0m \u001b[0mnp\u001b[0m\u001b[1;33m.\u001b[0m\u001b[0marange\u001b[0m\u001b[1;33m(\u001b[0m\u001b[0mlen\u001b[0m\u001b[1;33m(\u001b[0m\u001b[0mself\u001b[0m\u001b[1;33m.\u001b[0m\u001b[0mitems\u001b[0m\u001b[1;33m)\u001b[0m\u001b[1;33m)\u001b[0m\u001b[1;33m[\u001b[0m\u001b[0misna\u001b[0m\u001b[1;33m(\u001b[0m\u001b[0mself\u001b[0m\u001b[1;33m.\u001b[0m\u001b[0mitems\u001b[0m\u001b[1;33m)\u001b[0m\u001b[1;33m]\u001b[0m\u001b[1;33m\u001b[0m\u001b[0m\n",
      "\u001b[1;32m~\\Anaconda3\\lib\\site-packages\\pandas\\core\\indexes\\base.py\u001b[0m in \u001b[0;36mget_loc\u001b[1;34m(self, key, method, tolerance)\u001b[0m\n\u001b[0;32m   2525\u001b[0m                 \u001b[1;32mreturn\u001b[0m \u001b[0mself\u001b[0m\u001b[1;33m.\u001b[0m\u001b[0m_engine\u001b[0m\u001b[1;33m.\u001b[0m\u001b[0mget_loc\u001b[0m\u001b[1;33m(\u001b[0m\u001b[0mkey\u001b[0m\u001b[1;33m)\u001b[0m\u001b[1;33m\u001b[0m\u001b[0m\n\u001b[0;32m   2526\u001b[0m             \u001b[1;32mexcept\u001b[0m \u001b[0mKeyError\u001b[0m\u001b[1;33m:\u001b[0m\u001b[1;33m\u001b[0m\u001b[0m\n\u001b[1;32m-> 2527\u001b[1;33m                 \u001b[1;32mreturn\u001b[0m \u001b[0mself\u001b[0m\u001b[1;33m.\u001b[0m\u001b[0m_engine\u001b[0m\u001b[1;33m.\u001b[0m\u001b[0mget_loc\u001b[0m\u001b[1;33m(\u001b[0m\u001b[0mself\u001b[0m\u001b[1;33m.\u001b[0m\u001b[0m_maybe_cast_indexer\u001b[0m\u001b[1;33m(\u001b[0m\u001b[0mkey\u001b[0m\u001b[1;33m)\u001b[0m\u001b[1;33m)\u001b[0m\u001b[1;33m\u001b[0m\u001b[0m\n\u001b[0m\u001b[0;32m   2528\u001b[0m \u001b[1;33m\u001b[0m\u001b[0m\n\u001b[0;32m   2529\u001b[0m         \u001b[0mindexer\u001b[0m \u001b[1;33m=\u001b[0m \u001b[0mself\u001b[0m\u001b[1;33m.\u001b[0m\u001b[0mget_indexer\u001b[0m\u001b[1;33m(\u001b[0m\u001b[1;33m[\u001b[0m\u001b[0mkey\u001b[0m\u001b[1;33m]\u001b[0m\u001b[1;33m,\u001b[0m \u001b[0mmethod\u001b[0m\u001b[1;33m=\u001b[0m\u001b[0mmethod\u001b[0m\u001b[1;33m,\u001b[0m \u001b[0mtolerance\u001b[0m\u001b[1;33m=\u001b[0m\u001b[0mtolerance\u001b[0m\u001b[1;33m)\u001b[0m\u001b[1;33m\u001b[0m\u001b[0m\n",
      "\u001b[1;32mpandas/_libs/index.pyx\u001b[0m in \u001b[0;36mpandas._libs.index.IndexEngine.get_loc\u001b[1;34m()\u001b[0m\n",
      "\u001b[1;32mpandas/_libs/index.pyx\u001b[0m in \u001b[0;36mpandas._libs.index.IndexEngine.get_loc\u001b[1;34m()\u001b[0m\n",
      "\u001b[1;32mpandas/_libs/hashtable_class_helper.pxi\u001b[0m in \u001b[0;36mpandas._libs.hashtable.PyObjectHashTable.get_item\u001b[1;34m()\u001b[0m\n",
      "\u001b[1;32mpandas/_libs/hashtable_class_helper.pxi\u001b[0m in \u001b[0;36mpandas._libs.hashtable.PyObjectHashTable.get_item\u001b[1;34m()\u001b[0m\n",
      "\u001b[1;31mKeyError\u001b[0m: ('date', 'close')"
     ]
    }
   ],
   "source": [
    "cl=prices['date','close']"
   ]
  },
  {
   "cell_type": "code",
   "execution_count": 216,
   "metadata": {
    "collapsed": true
   },
   "outputs": [],
   "source": [
    "from statsmodels.tsa.arima_model import ARIMA"
   ]
  },
  {
   "cell_type": "code",
   "execution_count": 227,
   "metadata": {},
   "outputs": [
    {
     "data": {
      "text/html": [
       "<div>\n",
       "<style scoped>\n",
       "    .dataframe tbody tr th:only-of-type {\n",
       "        vertical-align: middle;\n",
       "    }\n",
       "\n",
       "    .dataframe tbody tr th {\n",
       "        vertical-align: top;\n",
       "    }\n",
       "\n",
       "    .dataframe thead th {\n",
       "        text-align: right;\n",
       "    }\n",
       "</style>\n",
       "<table border=\"1\" class=\"dataframe\">\n",
       "  <thead>\n",
       "    <tr style=\"text-align: right;\">\n",
       "      <th></th>\n",
       "      <th>date</th>\n",
       "      <th>close</th>\n",
       "    </tr>\n",
       "  </thead>\n",
       "  <tbody>\n",
       "    <tr>\n",
       "      <th>487</th>\n",
       "      <td>2010-01-04</td>\n",
       "      <td>64.680000</td>\n",
       "    </tr>\n",
       "    <tr>\n",
       "      <th>955</th>\n",
       "      <td>2010-01-05</td>\n",
       "      <td>63.930000</td>\n",
       "    </tr>\n",
       "    <tr>\n",
       "      <th>1423</th>\n",
       "      <td>2010-01-06</td>\n",
       "      <td>64.449997</td>\n",
       "    </tr>\n",
       "    <tr>\n",
       "      <th>1891</th>\n",
       "      <td>2010-01-07</td>\n",
       "      <td>63.990002</td>\n",
       "    </tr>\n",
       "    <tr>\n",
       "      <th>2359</th>\n",
       "      <td>2010-01-08</td>\n",
       "      <td>64.209999</td>\n",
       "    </tr>\n",
       "    <tr>\n",
       "      <th>2827</th>\n",
       "      <td>2010-01-11</td>\n",
       "      <td>64.220001</td>\n",
       "    </tr>\n",
       "    <tr>\n",
       "      <th>3295</th>\n",
       "      <td>2010-01-12</td>\n",
       "      <td>64.559998</td>\n",
       "    </tr>\n",
       "    <tr>\n",
       "      <th>3763</th>\n",
       "      <td>2010-01-13</td>\n",
       "      <td>64.970001</td>\n",
       "    </tr>\n",
       "    <tr>\n",
       "      <th>4231</th>\n",
       "      <td>2010-01-14</td>\n",
       "      <td>65.099998</td>\n",
       "    </tr>\n",
       "    <tr>\n",
       "      <th>4699</th>\n",
       "      <td>2010-01-15</td>\n",
       "      <td>64.559998</td>\n",
       "    </tr>\n",
       "    <tr>\n",
       "      <th>5167</th>\n",
       "      <td>2010-01-19</td>\n",
       "      <td>65.349998</td>\n",
       "    </tr>\n",
       "    <tr>\n",
       "      <th>5635</th>\n",
       "      <td>2010-01-20</td>\n",
       "      <td>65.150002</td>\n",
       "    </tr>\n",
       "    <tr>\n",
       "      <th>6103</th>\n",
       "      <td>2010-01-21</td>\n",
       "      <td>63.970001</td>\n",
       "    </tr>\n",
       "    <tr>\n",
       "      <th>6571</th>\n",
       "      <td>2010-01-22</td>\n",
       "      <td>63.200001</td>\n",
       "    </tr>\n",
       "    <tr>\n",
       "      <th>7039</th>\n",
       "      <td>2010-01-25</td>\n",
       "      <td>63.220001</td>\n",
       "    </tr>\n",
       "    <tr>\n",
       "      <th>7507</th>\n",
       "      <td>2010-01-26</td>\n",
       "      <td>62.790001</td>\n",
       "    </tr>\n",
       "    <tr>\n",
       "      <th>7975</th>\n",
       "      <td>2010-01-27</td>\n",
       "      <td>63.439999</td>\n",
       "    </tr>\n",
       "    <tr>\n",
       "      <th>8443</th>\n",
       "      <td>2010-01-28</td>\n",
       "      <td>63.799999</td>\n",
       "    </tr>\n",
       "    <tr>\n",
       "      <th>8911</th>\n",
       "      <td>2010-01-29</td>\n",
       "      <td>62.860001</td>\n",
       "    </tr>\n",
       "    <tr>\n",
       "      <th>9379</th>\n",
       "      <td>2010-02-01</td>\n",
       "      <td>63.090000</td>\n",
       "    </tr>\n",
       "    <tr>\n",
       "      <th>9847</th>\n",
       "      <td>2010-02-02</td>\n",
       "      <td>63.990002</td>\n",
       "    </tr>\n",
       "    <tr>\n",
       "      <th>10315</th>\n",
       "      <td>2010-02-03</td>\n",
       "      <td>63.630001</td>\n",
       "    </tr>\n",
       "    <tr>\n",
       "      <th>10783</th>\n",
       "      <td>2010-02-04</td>\n",
       "      <td>62.639999</td>\n",
       "    </tr>\n",
       "    <tr>\n",
       "      <th>11251</th>\n",
       "      <td>2010-02-05</td>\n",
       "      <td>62.639999</td>\n",
       "    </tr>\n",
       "    <tr>\n",
       "      <th>11719</th>\n",
       "      <td>2010-02-08</td>\n",
       "      <td>62.369999</td>\n",
       "    </tr>\n",
       "    <tr>\n",
       "      <th>12187</th>\n",
       "      <td>2010-02-09</td>\n",
       "      <td>62.759998</td>\n",
       "    </tr>\n",
       "    <tr>\n",
       "      <th>12655</th>\n",
       "      <td>2010-02-10</td>\n",
       "      <td>62.730000</td>\n",
       "    </tr>\n",
       "    <tr>\n",
       "      <th>13123</th>\n",
       "      <td>2010-02-11</td>\n",
       "      <td>62.910000</td>\n",
       "    </tr>\n",
       "    <tr>\n",
       "      <th>13591</th>\n",
       "      <td>2010-02-12</td>\n",
       "      <td>62.720001</td>\n",
       "    </tr>\n",
       "    <tr>\n",
       "      <th>14059</th>\n",
       "      <td>2010-02-16</td>\n",
       "      <td>63.610001</td>\n",
       "    </tr>\n",
       "    <tr>\n",
       "      <th>...</th>\n",
       "      <td>...</td>\n",
       "      <td>...</td>\n",
       "    </tr>\n",
       "    <tr>\n",
       "      <th>836513</th>\n",
       "      <td>2016-11-17</td>\n",
       "      <td>116.570000</td>\n",
       "    </tr>\n",
       "    <tr>\n",
       "      <th>837013</th>\n",
       "      <td>2016-11-18</td>\n",
       "      <td>115.360001</td>\n",
       "    </tr>\n",
       "    <tr>\n",
       "      <th>837513</th>\n",
       "      <td>2016-11-21</td>\n",
       "      <td>115.000000</td>\n",
       "    </tr>\n",
       "    <tr>\n",
       "      <th>838013</th>\n",
       "      <td>2016-11-22</td>\n",
       "      <td>112.739998</td>\n",
       "    </tr>\n",
       "    <tr>\n",
       "      <th>838513</th>\n",
       "      <td>2016-11-23</td>\n",
       "      <td>113.070000</td>\n",
       "    </tr>\n",
       "    <tr>\n",
       "      <th>839013</th>\n",
       "      <td>2016-11-25</td>\n",
       "      <td>114.129997</td>\n",
       "    </tr>\n",
       "    <tr>\n",
       "      <th>839513</th>\n",
       "      <td>2016-11-28</td>\n",
       "      <td>113.129997</td>\n",
       "    </tr>\n",
       "    <tr>\n",
       "      <th>840013</th>\n",
       "      <td>2016-11-29</td>\n",
       "      <td>112.480003</td>\n",
       "    </tr>\n",
       "    <tr>\n",
       "      <th>840513</th>\n",
       "      <td>2016-11-30</td>\n",
       "      <td>111.300003</td>\n",
       "    </tr>\n",
       "    <tr>\n",
       "      <th>841013</th>\n",
       "      <td>2016-12-01</td>\n",
       "      <td>111.379997</td>\n",
       "    </tr>\n",
       "    <tr>\n",
       "      <th>841513</th>\n",
       "      <td>2016-12-02</td>\n",
       "      <td>111.959999</td>\n",
       "    </tr>\n",
       "    <tr>\n",
       "      <th>842013</th>\n",
       "      <td>2016-12-05</td>\n",
       "      <td>111.940002</td>\n",
       "    </tr>\n",
       "    <tr>\n",
       "      <th>842513</th>\n",
       "      <td>2016-12-06</td>\n",
       "      <td>112.059998</td>\n",
       "    </tr>\n",
       "    <tr>\n",
       "      <th>843013</th>\n",
       "      <td>2016-12-07</td>\n",
       "      <td>111.099998</td>\n",
       "    </tr>\n",
       "    <tr>\n",
       "      <th>843513</th>\n",
       "      <td>2016-12-08</td>\n",
       "      <td>110.989998</td>\n",
       "    </tr>\n",
       "    <tr>\n",
       "      <th>844013</th>\n",
       "      <td>2016-12-09</td>\n",
       "      <td>112.260002</td>\n",
       "    </tr>\n",
       "    <tr>\n",
       "      <th>844513</th>\n",
       "      <td>2016-12-12</td>\n",
       "      <td>115.360001</td>\n",
       "    </tr>\n",
       "    <tr>\n",
       "      <th>845013</th>\n",
       "      <td>2016-12-13</td>\n",
       "      <td>115.889999</td>\n",
       "    </tr>\n",
       "    <tr>\n",
       "      <th>845513</th>\n",
       "      <td>2016-12-14</td>\n",
       "      <td>114.989998</td>\n",
       "    </tr>\n",
       "    <tr>\n",
       "      <th>846013</th>\n",
       "      <td>2016-12-15</td>\n",
       "      <td>115.889999</td>\n",
       "    </tr>\n",
       "    <tr>\n",
       "      <th>846513</th>\n",
       "      <td>2016-12-16</td>\n",
       "      <td>115.879997</td>\n",
       "    </tr>\n",
       "    <tr>\n",
       "      <th>847013</th>\n",
       "      <td>2016-12-19</td>\n",
       "      <td>116.019997</td>\n",
       "    </tr>\n",
       "    <tr>\n",
       "      <th>847513</th>\n",
       "      <td>2016-12-20</td>\n",
       "      <td>115.660004</td>\n",
       "    </tr>\n",
       "    <tr>\n",
       "      <th>848013</th>\n",
       "      <td>2016-12-21</td>\n",
       "      <td>115.309998</td>\n",
       "    </tr>\n",
       "    <tr>\n",
       "      <th>848513</th>\n",
       "      <td>2016-12-22</td>\n",
       "      <td>115.440002</td>\n",
       "    </tr>\n",
       "    <tr>\n",
       "      <th>849013</th>\n",
       "      <td>2016-12-23</td>\n",
       "      <td>115.959999</td>\n",
       "    </tr>\n",
       "    <tr>\n",
       "      <th>849513</th>\n",
       "      <td>2016-12-27</td>\n",
       "      <td>115.910004</td>\n",
       "    </tr>\n",
       "    <tr>\n",
       "      <th>850013</th>\n",
       "      <td>2016-12-28</td>\n",
       "      <td>115.099998</td>\n",
       "    </tr>\n",
       "    <tr>\n",
       "      <th>850513</th>\n",
       "      <td>2016-12-29</td>\n",
       "      <td>115.489998</td>\n",
       "    </tr>\n",
       "    <tr>\n",
       "      <th>851013</th>\n",
       "      <td>2016-12-30</td>\n",
       "      <td>115.209999</td>\n",
       "    </tr>\n",
       "  </tbody>\n",
       "</table>\n",
       "<p>1762 rows × 2 columns</p>\n",
       "</div>"
      ],
      "text/plain": [
       "             date       close\n",
       "487    2010-01-04   64.680000\n",
       "955    2010-01-05   63.930000\n",
       "1423   2010-01-06   64.449997\n",
       "1891   2010-01-07   63.990002\n",
       "2359   2010-01-08   64.209999\n",
       "2827   2010-01-11   64.220001\n",
       "3295   2010-01-12   64.559998\n",
       "3763   2010-01-13   64.970001\n",
       "4231   2010-01-14   65.099998\n",
       "4699   2010-01-15   64.559998\n",
       "5167   2010-01-19   65.349998\n",
       "5635   2010-01-20   65.150002\n",
       "6103   2010-01-21   63.970001\n",
       "6571   2010-01-22   63.200001\n",
       "7039   2010-01-25   63.220001\n",
       "7507   2010-01-26   62.790001\n",
       "7975   2010-01-27   63.439999\n",
       "8443   2010-01-28   63.799999\n",
       "8911   2010-01-29   62.860001\n",
       "9379   2010-02-01   63.090000\n",
       "9847   2010-02-02   63.990002\n",
       "10315  2010-02-03   63.630001\n",
       "10783  2010-02-04   62.639999\n",
       "11251  2010-02-05   62.639999\n",
       "11719  2010-02-08   62.369999\n",
       "12187  2010-02-09   62.759998\n",
       "12655  2010-02-10   62.730000\n",
       "13123  2010-02-11   62.910000\n",
       "13591  2010-02-12   62.720001\n",
       "14059  2010-02-16   63.610001\n",
       "...           ...         ...\n",
       "836513 2016-11-17  116.570000\n",
       "837013 2016-11-18  115.360001\n",
       "837513 2016-11-21  115.000000\n",
       "838013 2016-11-22  112.739998\n",
       "838513 2016-11-23  113.070000\n",
       "839013 2016-11-25  114.129997\n",
       "839513 2016-11-28  113.129997\n",
       "840013 2016-11-29  112.480003\n",
       "840513 2016-11-30  111.300003\n",
       "841013 2016-12-01  111.379997\n",
       "841513 2016-12-02  111.959999\n",
       "842013 2016-12-05  111.940002\n",
       "842513 2016-12-06  112.059998\n",
       "843013 2016-12-07  111.099998\n",
       "843513 2016-12-08  110.989998\n",
       "844013 2016-12-09  112.260002\n",
       "844513 2016-12-12  115.360001\n",
       "845013 2016-12-13  115.889999\n",
       "845513 2016-12-14  114.989998\n",
       "846013 2016-12-15  115.889999\n",
       "846513 2016-12-16  115.879997\n",
       "847013 2016-12-19  116.019997\n",
       "847513 2016-12-20  115.660004\n",
       "848013 2016-12-21  115.309998\n",
       "848513 2016-12-22  115.440002\n",
       "849013 2016-12-23  115.959999\n",
       "849513 2016-12-27  115.910004\n",
       "850013 2016-12-28  115.099998\n",
       "850513 2016-12-29  115.489998\n",
       "851013 2016-12-30  115.209999\n",
       "\n",
       "[1762 rows x 2 columns]"
      ]
     },
     "execution_count": 227,
     "metadata": {},
     "output_type": "execute_result"
    }
   ],
   "source": [
    "adj_close"
   ]
  },
  {
   "cell_type": "code",
   "execution_count": null,
   "metadata": {
    "collapsed": true
   },
   "outputs": [],
   "source": []
  }
 ],
 "metadata": {
  "kernelspec": {
   "display_name": "Python 3",
   "language": "python",
   "name": "python3"
  },
  "language_info": {
   "codemirror_mode": {
    "name": "ipython",
    "version": 3
   },
   "file_extension": ".py",
   "mimetype": "text/x-python",
   "name": "python",
   "nbconvert_exporter": "python",
   "pygments_lexer": "ipython3",
   "version": "3.6.3"
  }
 },
 "nbformat": 4,
 "nbformat_minor": 2
}
